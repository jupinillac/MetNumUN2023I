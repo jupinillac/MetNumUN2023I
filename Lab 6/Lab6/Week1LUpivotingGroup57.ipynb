{
  "nbformat": 4,
  "nbformat_minor": 0,
  "metadata": {
    "colab": {
      "provenance": [],
      "collapsed_sections": [
        "OqWxeK450I58"
      ],
      "include_colab_link": true
    },
    "kernelspec": {
      "name": "python3",
      "display_name": "Python 3"
    }
  },
  "cells": [
    {
      "cell_type": "markdown",
      "metadata": {
        "id": "view-in-github",
        "colab_type": "text"
      },
      "source": [
        "<a href=\"https://colab.research.google.com/github/jupinillac/MetNumUN2023I/blob/main/Lab%206/Week1LUpivotingGroup57.ipynb\" target=\"_parent\"><img src=\"https://colab.research.google.com/assets/colab-badge.svg\" alt=\"Open In Colab\"/></a>"
      ]
    },
    {
      "cell_type": "markdown",
      "metadata": {
        "id": "OBc93xD1zMDD"
      },
      "source": [
        "# I. $LU$ factorization of a square matrix\n",
        "When we premultply $A$ by lower triangular elemetary matrices $\\Lambda_j$ it is trasfrommed in an  upper triangular matrix $U$\n",
        "\n",
        "$$  \\Lambda_{n-1}  \\ldots\\Lambda_2  \\Lambda_1 A  = U$$\n",
        "\n",
        "$$  A  = (\\Lambda_{n-1}  \\ldots\\Lambda_2  \\Lambda_2 )^{-1} U$$\n",
        "\n",
        "The inverse of a product of matrices is the revesre product of inverses\n",
        "$$  A  = (\\Lambda_1^{-1}  \\Lambda_2^{-1} \\ldots  \\Lambda_{n-1}^{-1}) U$$\n",
        "\n",
        "and inverse of a Lower Triangular Elemetary Matrix is minus the matrix $\\Lambda_j^{-1} = - \\Lambda_j$, so \n",
        "\n",
        "$$ A  =  (-\\Lambda_1) (-\\Lambda_2) \\ldots   (-\\Lambda_{n-1})  U$$\n",
        "\n",
        "So the $LU$ column pivot factorization is \n",
        "$$  A  = L U$$\n",
        "with\n",
        "$$ U = \\Lambda_{n-1}  \\ldots\\Lambda_2  \\Lambda_1 A  $$\n",
        "an upper triangular matrix\n",
        "$$ L  =  \\Lambda_1^{-1}  \\Lambda_2^{-1} \\ldots  \\Lambda_{n-1}^{-1} m = (-\\Lambda_1) (-\\Lambda_2) \\ldots   (-\\Lambda_{n-1})  $$\n",
        "an lower triangular matrix."
      ]
    },
    {
      "cell_type": "markdown",
      "metadata": {
        "id": "dmO1wEA5zVVS"
      },
      "source": [
        "Consider a simple naive implementation of the LU decomposition. \n",
        "\n",
        "Note that we're using the `numpy` arrays to represent matrices [do **not** use `np.matrix`]."
      ]
    },
    {
      "cell_type": "code",
      "metadata": {
        "id": "0jzv0-yyzDM2"
      },
      "source": [
        "import numpy as np\n",
        "\n",
        "def diy_lu(a):\n",
        "    \"\"\"Construct the LU decomposition of the input matrix.\n",
        "    \n",
        "    Naive LU decomposition: work column by column, accumulate elementary triangular matrices.\n",
        "    No pivoting.\n",
        "    \"\"\"\n",
        "    N = a.shape[0]\n",
        "    \n",
        "    u = a.copy()\n",
        "    L = np.eye(N)\n",
        "    for j in range(N-1):\n",
        "        lam = np.eye(N)\n",
        "        gamma = u[j+1:, j] / u[j, j]\n",
        "        lam[j+1:, j] = -gamma\n",
        "        u = lam @ u\n",
        "\n",
        "        lam[j+1:, j] = gamma\n",
        "        L = L @ lam\n",
        "    return L, u"
      ],
      "execution_count": null,
      "outputs": []
    },
    {
      "cell_type": "code",
      "metadata": {
        "colab": {
          "base_uri": "https://localhost:8080/"
        },
        "id": "yW-cZc_qzd0Z",
        "outputId": "5b2c24ca-38c1-4650-ab2f-6f8969bcc28a"
      },
      "source": [
        "# Now, generate a full rank matrix and test the naive implementation\n",
        "\n",
        "import numpy as np\n",
        "\n",
        "N = 6\n",
        "A = np.zeros((N, N), dtype=float)\n",
        "for i in range(N):\n",
        "    for j in range(N):\n",
        "        A[i, j] = 3. / (0.6*i*j + 1)\n",
        "\n",
        "np.linalg.matrix_rank(A)"
      ],
      "execution_count": null,
      "outputs": [
        {
          "output_type": "execute_result",
          "data": {
            "text/plain": [
              "6"
            ]
          },
          "metadata": {},
          "execution_count": 19
        }
      ]
    },
    {
      "cell_type": "code",
      "metadata": {
        "colab": {
          "base_uri": "https://localhost:8080/"
        },
        "id": "MJs7LATHzhZq",
        "outputId": "72f3661e-6dbf-4fef-8f31-23633704fc9b"
      },
      "source": [
        "np.round(A,3)"
      ],
      "execution_count": null,
      "outputs": [
        {
          "output_type": "execute_result",
          "data": {
            "text/plain": [
              "array([[3.   , 3.   , 3.   , 3.   , 3.   , 3.   ],\n",
              "       [3.   , 1.875, 1.364, 1.071, 0.882, 0.75 ],\n",
              "       [3.   , 1.364, 0.882, 0.652, 0.517, 0.429],\n",
              "       [3.   , 1.071, 0.652, 0.469, 0.366, 0.3  ],\n",
              "       [3.   , 0.882, 0.517, 0.366, 0.283, 0.231],\n",
              "       [3.   , 0.75 , 0.429, 0.3  , 0.231, 0.188]])"
            ]
          },
          "metadata": {},
          "execution_count": 20
        }
      ]
    },
    {
      "cell_type": "code",
      "metadata": {
        "colab": {
          "base_uri": "https://localhost:8080/"
        },
        "id": "Y21gOqQ8zsqp",
        "outputId": "f6bccf63-0fef-4360-ad42-cdf3c66ee636"
      },
      "source": [
        "L, U = diy_lu(A)\n",
        "\n",
        "print(np.round(L,3), \"\\n\")\n",
        "print(np.round(U,3), \"\\n\")\n",
        "\n",
        "# Quick sanity check: L times U must equal the original matrix, up to floating-point errors.\n",
        "print(np.round(L@U - A,3))"
      ],
      "execution_count": null,
      "outputs": [
        {
          "output_type": "stream",
          "name": "stdout",
          "text": [
            "[[1.    0.    0.    0.    0.    0.   ]\n",
            " [1.    1.    0.    0.    0.    0.   ]\n",
            " [1.    1.455 1.    0.    0.    0.   ]\n",
            " [1.    1.714 1.742 1.    0.    0.   ]\n",
            " [1.    1.882 2.276 2.039 1.    0.   ]\n",
            " [1.    2.    2.671 2.944 2.354 1.   ]] \n",
            "\n",
            "[[ 3.000e+00  3.000e+00  3.000e+00  3.000e+00  3.000e+00  3.000e+00]\n",
            " [ 0.000e+00 -1.125e+00 -1.636e+00 -1.929e+00 -2.118e+00 -2.250e+00]\n",
            " [ 0.000e+00  0.000e+00  2.630e-01  4.570e-01  5.970e-01  7.010e-01]\n",
            " [ 0.000e+00  0.000e+00  0.000e+00 -2.200e-02 -4.500e-02 -6.500e-02]\n",
            " [ 0.000e+00 -0.000e+00  0.000e+00  0.000e+00  1.000e-03  2.000e-03]\n",
            " [ 0.000e+00  0.000e+00  0.000e+00 -0.000e+00  0.000e+00 -0.000e+00]] \n",
            "\n",
            "[[ 0.  0.  0.  0.  0.  0.]\n",
            " [ 0.  0.  0.  0.  0.  0.]\n",
            " [ 0.  0. -0.  0.  0. -0.]\n",
            " [ 0.  0.  0. -0. -0.  0.]\n",
            " [ 0.  0.  0. -0. -0.  0.]\n",
            " [ 0.  0. -0. -0.  0.  0.]]\n"
          ]
        }
      ]
    },
    {
      "cell_type": "markdown",
      "metadata": {
        "id": "oSvHYsWuza06"
      },
      "source": [
        "# II. The need for pivoting"
      ]
    },
    {
      "cell_type": "markdown",
      "metadata": {
        "id": "B6z9Gausz4lS"
      },
      "source": [
        "Let's tweak the matrix a little bit, we only change a single element:"
      ]
    },
    {
      "cell_type": "code",
      "metadata": {
        "id": "tkGx4QSTzxOo"
      },
      "source": [
        "A1 = A.copy()\n",
        "A1[1, 1] = 3"
      ],
      "execution_count": null,
      "outputs": []
    },
    {
      "cell_type": "code",
      "source": [
        "np.round(A1,3)"
      ],
      "metadata": {
        "colab": {
          "base_uri": "https://localhost:8080/"
        },
        "id": "TRC3nCQCkISv",
        "outputId": "3ea89f61-fbd6-45e6-ecc2-467e1e5e5f25"
      },
      "execution_count": null,
      "outputs": [
        {
          "output_type": "execute_result",
          "data": {
            "text/plain": [
              "array([[3.   , 3.   , 3.   , 3.   , 3.   , 3.   ],\n",
              "       [3.   , 3.   , 1.364, 1.071, 0.882, 0.75 ],\n",
              "       [3.   , 1.364, 0.882, 0.652, 0.517, 0.429],\n",
              "       [3.   , 1.071, 0.652, 0.469, 0.366, 0.3  ],\n",
              "       [3.   , 0.882, 0.517, 0.366, 0.283, 0.231],\n",
              "       [3.   , 0.75 , 0.429, 0.3  , 0.231, 0.188]])"
            ]
          },
          "metadata": {},
          "execution_count": 24
        }
      ]
    },
    {
      "cell_type": "code",
      "metadata": {
        "colab": {
          "base_uri": "https://localhost:8080/"
        },
        "id": "dotDoRQ0jT71",
        "outputId": "0ebdfd45-3382-42f6-c621-460bce3e3a58"
      },
      "source": [
        "np.linalg.matrix_rank(A1)"
      ],
      "execution_count": null,
      "outputs": [
        {
          "output_type": "execute_result",
          "data": {
            "text/plain": [
              "6"
            ]
          },
          "metadata": {},
          "execution_count": 25
        }
      ]
    },
    {
      "cell_type": "code",
      "metadata": {
        "colab": {
          "base_uri": "https://localhost:8080/"
        },
        "id": "NfvRXF3l0Czz",
        "outputId": "897f9ff8-305e-4e3e-da6d-6c79cae77e03"
      },
      "source": [
        "L, U= diy_lu(A1)\n",
        "\n",
        "print(L, U)"
      ],
      "execution_count": null,
      "outputs": [
        {
          "output_type": "stream",
          "name": "stdout",
          "text": [
            "[[nan nan nan nan nan nan]\n",
            " [nan nan nan nan nan nan]\n",
            " [nan nan nan nan nan nan]\n",
            " [nan nan nan nan nan nan]\n",
            " [nan nan nan nan nan nan]\n",
            " [nan nan nan nan nan nan]] [[nan nan nan nan nan nan]\n",
            " [nan nan nan nan nan nan]\n",
            " [nan nan nan nan nan nan]\n",
            " [nan nan nan nan nan nan]\n",
            " [nan nan nan nan nan nan]\n",
            " [nan nan nan nan nan nan]]\n"
          ]
        },
        {
          "output_type": "stream",
          "name": "stderr",
          "text": [
            "<ipython-input-18-8918e3eddeb9>:15: RuntimeWarning: divide by zero encountered in true_divide\n",
            "  gamma = u[j+1:, j] / u[j, j]\n",
            "<ipython-input-18-8918e3eddeb9>:17: RuntimeWarning: invalid value encountered in matmul\n",
            "  u = lam @ u\n",
            "<ipython-input-18-8918e3eddeb9>:20: RuntimeWarning: invalid value encountered in matmul\n",
            "  L = L @ lam\n",
            "<ipython-input-18-8918e3eddeb9>:15: RuntimeWarning: invalid value encountered in true_divide\n",
            "  gamma = u[j+1:, j] / u[j, j]\n"
          ]
        }
      ]
    },
    {
      "cell_type": "markdown",
      "source": [
        "The LU decomposition from scipy.linalg.lu already implements pivoting other sophisticated controls \n",
        "\n",
        "https://docs.scipy.org/doc/scipy/reference/generated/scipy.linalg.lu.html\n",
        "\n",
        "$$A = P L U$$\n",
        "\n",
        "```python\n",
        "\n",
        " P ,  L,  U  = scipy.linalg.lu(a, permute_l=False, overwrite_a=False, check_finite=True)\n",
        "\n",
        "# Returns\n",
        "# (If permute_l == False)\n",
        "# P : Permutation matrix\n",
        "# L : Lower triangular or trapezoidal matrix with unit diagonal. K = min\n",
        "# U : Upper triangular or trapezoidal matrix\n",
        "```"
      ],
      "metadata": {
        "id": "1wOBYHGcyIRG"
      }
    },
    {
      "cell_type": "code",
      "source": [
        "from scipy import linalg\n",
        "P ,  L,  U = linalg.lu(A)\n",
        "\n",
        "print(\"P\\n\",P, \"\\n\")\n",
        "print(\"L\\n\",L, \"\\n\")\n",
        "print(\"U\\n\",np.round(U,3), \"\\n\")\n",
        "print(\"A= P@L@U\\n\", P@L@U, \"\\n\")\n",
        "print(\"A\\n\",A, \"\\n\")\n"
      ],
      "metadata": {
        "colab": {
          "base_uri": "https://localhost:8080/"
        },
        "id": "npXQN18nyHS_",
        "outputId": "942b345c-ae16-47a5-bcc7-7592860bf1b0"
      },
      "execution_count": null,
      "outputs": [
        {
          "output_type": "stream",
          "name": "stdout",
          "text": [
            "P\n",
            " [[1. 0. 0. 0. 0. 0.]\n",
            " [0. 0. 1. 0. 0. 0.]\n",
            " [0. 0. 0. 1. 0. 0.]\n",
            " [0. 0. 0. 0. 1. 0.]\n",
            " [0. 0. 0. 0. 0. 1.]\n",
            " [0. 1. 0. 0. 0. 0.]] \n",
            "\n",
            "L\n",
            " [[1.         0.         0.         0.         0.         0.        ]\n",
            " [1.         1.         0.         0.         0.         0.        ]\n",
            " [1.         0.5        1.         0.         0.         0.        ]\n",
            " [1.         0.72727273 0.70588235 1.         0.         0.        ]\n",
            " [1.         0.85714286 0.40993789 0.83482143 1.         0.        ]\n",
            " [1.         0.94117647 0.17849899 0.4255677  0.78870221 1.        ]] \n",
            "\n",
            "U\n",
            " [[ 3.000e+00  3.000e+00  3.000e+00  3.000e+00  3.000e+00  3.000e+00]\n",
            " [ 0.000e+00 -2.250e+00 -2.571e+00 -2.700e+00 -2.769e+00 -2.812e+00]\n",
            " [ 0.000e+00  0.000e+00 -3.510e-01 -5.790e-01 -7.330e-01 -8.440e-01]\n",
            " [ 0.000e+00  0.000e+00  0.000e+00  2.400e-02  4.900e-02  7.000e-02]\n",
            " [ 0.000e+00  0.000e+00  0.000e+00  0.000e+00 -1.000e-03 -2.000e-03]\n",
            " [ 0.000e+00  0.000e+00  0.000e+00  0.000e+00  0.000e+00  0.000e+00]] \n",
            "\n",
            "A= P@L@U\n",
            " [[3.         3.         3.         3.         3.         3.        ]\n",
            " [3.         1.875      1.36363636 1.07142857 0.88235294 0.75      ]\n",
            " [3.         1.36363636 0.88235294 0.65217391 0.51724138 0.42857143]\n",
            " [3.         1.07142857 0.65217391 0.46875    0.36585366 0.3       ]\n",
            " [3.         0.88235294 0.51724138 0.36585366 0.28301887 0.23076923]\n",
            " [3.         0.75       0.42857143 0.3        0.23076923 0.1875    ]] \n",
            "\n",
            "A\n",
            " [[3.         3.         3.         3.         3.         3.        ]\n",
            " [3.         1.875      1.36363636 1.07142857 0.88235294 0.75      ]\n",
            " [3.         1.36363636 0.88235294 0.65217391 0.51724138 0.42857143]\n",
            " [3.         1.07142857 0.65217391 0.46875    0.36585366 0.3       ]\n",
            " [3.         0.88235294 0.51724138 0.36585366 0.28301887 0.23076923]\n",
            " [3.         0.75       0.42857143 0.3        0.23076923 0.1875    ]] \n",
            "\n"
          ]
        }
      ]
    },
    {
      "cell_type": "code",
      "source": [
        "P ,  L,  U = linalg.lu(A1)\n",
        "\n",
        "print(\"P\\n\",P, \"\\n\")\n",
        "print(\"L\\n\",L, \"\\n\")\n",
        "print(\"U\\n\",np.round(U,3), \"\\n\")\n",
        "print(\"A= P@L@U\\n\", P@L@U, \"\\n\")\n",
        "print(\"A\\n\",A, \"\\n\")\n"
      ],
      "metadata": {
        "colab": {
          "base_uri": "https://localhost:8080/"
        },
        "id": "U31oKbCWzKXe",
        "outputId": "727758e8-8ed5-4253-ace5-01fa6b5a94b5"
      },
      "execution_count": null,
      "outputs": [
        {
          "output_type": "stream",
          "name": "stdout",
          "text": [
            "P\n",
            " [[1. 0. 0. 0. 0. 0.]\n",
            " [0. 0. 1. 0. 0. 0.]\n",
            " [0. 0. 0. 1. 0. 0.]\n",
            " [0. 0. 0. 0. 1. 0.]\n",
            " [0. 0. 0. 0. 0. 1.]\n",
            " [0. 1. 0. 0. 0. 0.]] \n",
            "\n",
            "L\n",
            " [[ 1.          0.          0.          0.          0.          0.        ]\n",
            " [ 1.          1.          0.          0.          0.          0.        ]\n",
            " [ 1.         -0.          1.          0.          0.          0.        ]\n",
            " [ 1.          0.72727273  0.1512605   1.          0.          0.        ]\n",
            " [ 1.          0.85714286  0.08784383  0.51421669  1.          0.        ]\n",
            " [ 1.          0.94117647  0.03824978  0.2076544   0.64143198  1.        ]] \n",
            "\n",
            "U\n",
            " [[ 3.000e+00  3.000e+00  3.000e+00  3.000e+00  3.000e+00  3.000e+00]\n",
            " [ 0.000e+00 -2.250e+00 -2.571e+00 -2.700e+00 -2.769e+00 -2.812e+00]\n",
            " [ 0.000e+00  0.000e+00 -1.636e+00 -1.929e+00 -2.118e+00 -2.250e+00]\n",
            " [ 0.000e+00  0.000e+00  0.000e+00 -9.200e-02 -1.480e-01 -1.860e-01]\n",
            " [ 0.000e+00  0.000e+00  0.000e+00  0.000e+00  2.000e-03  4.000e-03]\n",
            " [ 0.000e+00  0.000e+00  0.000e+00  0.000e+00  0.000e+00 -0.000e+00]] \n",
            "\n",
            "A= P@L@U\n",
            " [[3.         3.         3.         3.         3.         3.        ]\n",
            " [3.         3.         1.36363636 1.07142857 0.88235294 0.75      ]\n",
            " [3.         1.36363636 0.88235294 0.65217391 0.51724138 0.42857143]\n",
            " [3.         1.07142857 0.65217391 0.46875    0.36585366 0.3       ]\n",
            " [3.         0.88235294 0.51724138 0.36585366 0.28301887 0.23076923]\n",
            " [3.         0.75       0.42857143 0.3        0.23076923 0.1875    ]] \n",
            "\n",
            "A\n",
            " [[3.         3.         3.         3.         3.         3.        ]\n",
            " [3.         1.875      1.36363636 1.07142857 0.88235294 0.75      ]\n",
            " [3.         1.36363636 0.88235294 0.65217391 0.51724138 0.42857143]\n",
            " [3.         1.07142857 0.65217391 0.46875    0.36585366 0.3       ]\n",
            " [3.         0.88235294 0.51724138 0.36585366 0.28301887 0.23076923]\n",
            " [3.         0.75       0.42857143 0.3        0.23076923 0.1875    ]] \n",
            "\n"
          ]
        }
      ]
    },
    {
      "cell_type": "markdown",
      "metadata": {
        "id": "OqWxeK450I58"
      },
      "source": [
        "### Test II.1\n",
        "\n",
        "For a naive LU decomposition to work, all leading minors of a matrix should be non-zero. Check if this requirement is satisfied for the two matrices `a` and `a1`.\n",
        "\n",
        "(20% of the grade)"
      ]
    },
    {
      "cell_type": "code",
      "metadata": {
        "colab": {
          "base_uri": "https://localhost:8080/"
        },
        "id": "qCf9-MUqN927",
        "outputId": "2a2f6c73-1dc6-4ad7-96ef-769efb635da9"
      },
      "source": [
        "def leading_minors_test(A):\n",
        "    \"\"\"\n",
        "    Function to check all leading Minors of a Matrix not equal to 0\n",
        "    \"\"\"\n",
        "    # ... ENTER YOUR CODE HERE ...\n",
        "    ret = True\n",
        "    for i in range(1,A.shape[0]+1):   # iterate over all leading minors of A\n",
        "      sub_matrix = A[:i,:i]\n",
        "      leading_minor = np.linalg.det(sub_matrix)\n",
        "      if( leading_minor == 0 ): ret = False\n",
        "    return ret\n",
        "\n",
        "leading_minors_test(A), leading_minors_test(A1)\n",
        "#(true, false)"
      ],
      "execution_count": null,
      "outputs": [
        {
          "output_type": "execute_result",
          "data": {
            "text/plain": [
              "(True, False)"
            ]
          },
          "metadata": {},
          "execution_count": 30
        }
      ]
    },
    {
      "cell_type": "markdown",
      "metadata": {
        "id": "Qs8AJkWd0XXQ"
      },
      "source": [
        "### Test II.2\n",
        "\n",
        "Modify the `diy_lu` routine to implement column pivoting. Keep track of pivots, you can either construct a permutation matrix, or a swap array (your choice).\n",
        "\n",
        "(40% of the grade)\n",
        "\n",
        "Implement a function to reconstruct the original matrix from a decompositon. Test your routines on the matrices `a` and `a1`.\n",
        "\n",
        "(40% of the grade)"
      ]
    },
    {
      "cell_type": "markdown",
      "metadata": {
        "id": "tUb6w3y60eyP"
      },
      "source": [
        "# 2. $LU$ factorization column pivoting and reconstruction\n",
        "When we premultply $A$ by elementary permutation matricex$P_j$( to find a good pivot) and then premultply by lower triangular elemetary matrices $\\Lambda_j$, $A$  it is transformed in an  upper triangular matrix $U$\n",
        "\n",
        "$$  \n",
        "(\\Lambda_{n-1} P_{n-1} \\ldots \\Lambda_2 P_2 \\Lambda_1 P_1)A  = U\n",
        "$$\n",
        "and \n",
        "$$  \n",
        "A  = (\\Lambda_{n-1} P_{n-1} \\ldots \\Lambda_2 P_2 \\Lambda_1 P_1)^{-1} U\n",
        "$$\n",
        "\n",
        "\n",
        "So the $LU$ column pivot factorization of $A$ is \n",
        "$$\n",
        "A = LU\n",
        "$$\n",
        "ith\n",
        "$$  \n",
        "U = (\\Lambda_{n-1} P_{n-1} \\ldots \\Lambda_2 P_2 \\Lambda_1 P_1) A\n",
        "$$\n",
        "$$\n",
        "\\begin{array}{ll}L  &=  (\\Lambda_{n-1} P_{n-1} \\ldots \\Lambda_2 P_2 \\Lambda_1 P_1)^{-1}\\\\\n",
        "&= P_1^{-1} \\Lambda_1^{-1} P_2^{-1} \\Lambda_2^{-1} \\ldots  P_{n-1}^{-1}\\\\\n",
        " &= P_1^{t} (-\\Lambda_1) P_2^{t} (-\\Lambda_2) \\ldots  P_{n-1}^{t} (-\\Lambda_{n-1})\n",
        "\\end{array}\n",
        "$$\n",
        "because the inverse a of a Lower Triangular Elemetary Matrix is minus the matrix $\\Lambda_i^{-1} = - \\Lambda_i$ and the inverse of a Permutation Matrix (in particular an elementary permutation matrix)  is its transpose [math.stackexchange](\n",
        "        https://math.stackexchange.com/questions/98549/the-transpose-of-a-permutation-matrix-is-its-inverse#:~:text=Taking%20the%20transpose%20of%20P,Pt%3DP%E2%88%921.)  $P_i^{-1}=P_i^{t}$.\n",
        "\n",
        "Note that \n",
        "$$\n",
        "L= P_1^{t} (-\\Lambda_1) P_2^{t} (-\\Lambda_2) \\ldots  P_{n-1}^{t} (-\\Lambda_{n-1})\n",
        "$$\n",
        "is not exactly a lower tiangular matrix but a row permutated lower tiangular matrix.\n",
        "\n",
        "\n",
        "\n"
      ]
    },
    {
      "cell_type": "markdown",
      "source": [
        "$$PA = LU$$"
      ],
      "metadata": {
        "id": "nV8IGs1Zrzu6"
      }
    },
    {
      "cell_type": "code",
      "metadata": {
        "id": "pCoZ5W-dOLPk"
      },
      "source": [
        "def diy_lu_column_pivot_reconstruct(A):\n",
        "    \"\"\"Construct the LU decomposition of the input matrix.\n",
        "    \n",
        "    LU decomposition with pivot: work column by column, accumulate elementary triangular matrices L @ np.transpose(Pj) .\n",
        "    \"\"\"\n",
        "    n = A.shape[0]\n",
        "    P = np.eye(n)  # Initialize the permutation matrix as an identity matrix\n",
        "    L = np.eye(n)  # Initialize the lower triangular matrix as an identity matrix\n",
        "    U = A.astype(np.float64)  # Change the data type of A to float64\n",
        "\n",
        "    for j in range(n):\n",
        "        pivot_row = np.argmax(abs(U[j:, j])) + j  # Find the row with the maximum absolute value in the current column\n",
        "        if pivot_row != j:\n",
        "            P[:, [j, pivot_row]] = P[:, [pivot_row, j]]  # Swap the columns in the permutation matrix\n",
        "            L[[j, pivot_row], :j] = L[[pivot_row, j], :j]  # Swap the rows in the lower triangular matrix\n",
        "            U[[j, pivot_row], :] = U[[pivot_row, j], :]  # Swap the rows in the entire U matrix\n",
        "\n",
        "        pivot_element = U[j, j]\n",
        "        if pivot_element != 0:\n",
        "            for i in range(j + 1, n):\n",
        "                L[i, j] = U[i, j] / pivot_element  # Compute the multiplier for the current column\n",
        "                U[i, j:] -= L[i, j] * U[j, j:]  # Update the entries of the upper triangular matrix\n",
        "\n",
        "    return P, L, U"
      ],
      "execution_count": null,
      "outputs": []
    },
    {
      "cell_type": "code",
      "metadata": {
        "id": "fhVlk2aj1Ux5",
        "colab": {
          "base_uri": "https://localhost:8080/"
        },
        "outputId": "bd6c99ef-30a3-4ed2-b7d3-c89285389883"
      },
      "source": [
        "A = np.array([[4,3,1], [5,7,0], [9,9,3]])\n",
        "\n",
        "P, L, U, = diy_lu_column_pivot_reconstruct(A)\n",
        "\n",
        "print(\"P\\n\",P, \"\\n\")\n",
        "print(\"L\\n\",L, \"\\n\")\n",
        "print(\"U\\n\",U, \"\\n\")\n",
        "print(\"A= P@L@U\\n\", P@L@U, \"\\n\")\n",
        "print(\"A\\n\",A, \"\\n\")\n",
        "\n",
        "# Quick sanity check: L times U must equal the original matrix, up to floating-point errors.\n",
        "print(\"L@u - A\\n\",np.round(P@L@U-A,3), \"\\n\")"
      ],
      "execution_count": null,
      "outputs": [
        {
          "output_type": "stream",
          "name": "stdout",
          "text": [
            "P\n",
            " [[0. 0. 1.]\n",
            " [0. 1. 0.]\n",
            " [1. 0. 0.]] \n",
            "\n",
            "L\n",
            " [[ 1.          0.          0.        ]\n",
            " [ 0.55555556  1.          0.        ]\n",
            " [ 0.44444444 -0.5         1.        ]] \n",
            "\n",
            "U\n",
            " [[ 9.          9.          3.        ]\n",
            " [ 0.          2.         -1.66666667]\n",
            " [ 0.          0.         -1.16666667]] \n",
            "\n",
            "A= P@L@U\n",
            " [[4. 3. 1.]\n",
            " [5. 7. 0.]\n",
            " [9. 9. 3.]] \n",
            "\n",
            "A\n",
            " [[4 3 1]\n",
            " [5 7 0]\n",
            " [9 9 3]] \n",
            "\n",
            "L@u - A\n",
            " [[0. 0. 0.]\n",
            " [0. 0. 0.]\n",
            " [0. 0. 0.]] \n",
            "\n"
          ]
        }
      ]
    },
    {
      "cell_type": "code",
      "source": [
        "from scipy import linalg\n",
        "\n",
        "A = np.array([[4,3,1], [5,7,0], [9,9,3]])\n",
        "\n",
        "P,L,U = linalg.lu(A)\n",
        "\n",
        "print(\"P\\n\",P, \"\\n\")\n",
        "print(\"L\\n\",L, \"\\n\")\n",
        "print(\"U\\n\",U, \"\\n\")\n",
        "print(\"A= P@L@U\\n\", P@L@U, \"\\n\")\n",
        "print(\"A\\n\",A, \"\\n\")\n",
        "\n",
        "# Quick sanity check: L times U must equal the original matrix, up to floating-point errors.\n",
        "print(\"L@u - A\\n\",np.round(P@L@U-A,3), \"\\n\")"
      ],
      "metadata": {
        "colab": {
          "base_uri": "https://localhost:8080/"
        },
        "id": "KY0N7EG_xAaP",
        "outputId": "321e2b33-2d58-46d7-8788-8dfce8e6564b"
      },
      "execution_count": null,
      "outputs": [
        {
          "output_type": "stream",
          "name": "stdout",
          "text": [
            "P\n",
            " [[0. 0. 1.]\n",
            " [0. 1. 0.]\n",
            " [1. 0. 0.]] \n",
            "\n",
            "L\n",
            " [[ 1.          0.          0.        ]\n",
            " [ 0.55555556  1.          0.        ]\n",
            " [ 0.44444444 -0.5         1.        ]] \n",
            "\n",
            "U\n",
            " [[ 9.          9.          3.        ]\n",
            " [ 0.          2.         -1.66666667]\n",
            " [ 0.          0.         -1.16666667]] \n",
            "\n",
            "A= P@L@U\n",
            " [[4. 3. 1.]\n",
            " [5. 7. 0.]\n",
            " [9. 9. 3.]] \n",
            "\n",
            "A\n",
            " [[4 3 1]\n",
            " [5 7 0]\n",
            " [9 9 3]] \n",
            "\n",
            "L@u - A\n",
            " [[0. 0. 0.]\n",
            " [0. 0. 0.]\n",
            " [0. 0. 0.]] \n",
            "\n"
          ]
        }
      ]
    },
    {
      "cell_type": "code",
      "metadata": {
        "id": "XIpfRzl21IDH",
        "colab": {
          "base_uri": "https://localhost:8080/"
        },
        "outputId": "fee7754a-6764-45bc-956b-b154b35cb882"
      },
      "source": [
        "N = 6\n",
        "A = np.zeros((N, N), dtype=float)\n",
        "for i in range(N):\n",
        "    for j in range(N):\n",
        "        A[i, j] = 3. / (0.6*i*j + 1)\n",
        "\n",
        "P, L, U, = diy_lu_column_pivot_reconstruct(A)\n",
        "\n",
        "print(\"P\\n\",P, \"\\n\")\n",
        "print(\"L\\n\",L, \"\\n\")\n",
        "print(\"U\\n\",U, \"\\n\")\n",
        "print(\"A= P@L@U\\n\", P@L@U, \"\\n\")\n",
        "print(\"A\\n\",A, \"\\n\")\n",
        "\n",
        "# Quick sanity check: L times U must equal the original matrix, up to floating-point errors.\n",
        "print(\"L@u - A\\n\",np.round(P@L@U-A,3), \"\\n\")"
      ],
      "execution_count": null,
      "outputs": [
        {
          "output_type": "stream",
          "name": "stdout",
          "text": [
            "P\n",
            " [[1. 0. 0. 0. 0. 0.]\n",
            " [0. 0. 1. 0. 0. 0.]\n",
            " [0. 0. 0. 1. 0. 0.]\n",
            " [0. 0. 0. 0. 1. 0.]\n",
            " [0. 0. 0. 0. 0. 1.]\n",
            " [0. 1. 0. 0. 0. 0.]] \n",
            "\n",
            "L\n",
            " [[1.         0.         0.         0.         0.         0.        ]\n",
            " [1.         1.         0.         0.         0.         0.        ]\n",
            " [1.         0.5        1.         0.         0.         0.        ]\n",
            " [1.         0.72727273 0.70588235 1.         0.         0.        ]\n",
            " [1.         0.85714286 0.40993789 0.83482143 1.         0.        ]\n",
            " [1.         0.94117647 0.17849899 0.4255677  0.78870221 1.        ]] \n",
            "\n",
            "U\n",
            " [[ 3.00000000e+00  3.00000000e+00  3.00000000e+00  3.00000000e+00\n",
            "   3.00000000e+00  3.00000000e+00]\n",
            " [ 0.00000000e+00 -2.25000000e+00 -2.57142857e+00 -2.70000000e+00\n",
            "  -2.76923077e+00 -2.81250000e+00]\n",
            " [ 0.00000000e+00  0.00000000e+00 -3.50649351e-01 -5.78571429e-01\n",
            "  -7.33031674e-01 -8.43750000e-01]\n",
            " [ 0.00000000e+00  0.00000000e+00  2.77555756e-17  2.42136380e-02\n",
            "   4.86615163e-02  6.96142093e-02]\n",
            " [ 0.00000000e+00  2.22044605e-16  0.00000000e+00  0.00000000e+00\n",
            "  -6.46187856e-04 -1.51605479e-03]\n",
            " [ 0.00000000e+00  0.00000000e+00  0.00000000e+00  0.00000000e+00\n",
            "   0.00000000e+00  6.73010748e-06]] \n",
            "\n",
            "A= P@L@U\n",
            " [[3.         3.         3.         3.         3.         3.        ]\n",
            " [3.         1.875      1.36363636 1.07142857 0.88235294 0.75      ]\n",
            " [3.         1.36363636 0.88235294 0.65217391 0.51724138 0.42857143]\n",
            " [3.         1.07142857 0.65217391 0.46875    0.36585366 0.3       ]\n",
            " [3.         0.88235294 0.51724138 0.36585366 0.28301887 0.23076923]\n",
            " [3.         0.75       0.42857143 0.3        0.23076923 0.1875    ]] \n",
            "\n",
            "A\n",
            " [[3.         3.         3.         3.         3.         3.        ]\n",
            " [3.         1.875      1.36363636 1.07142857 0.88235294 0.75      ]\n",
            " [3.         1.36363636 0.88235294 0.65217391 0.51724138 0.42857143]\n",
            " [3.         1.07142857 0.65217391 0.46875    0.36585366 0.3       ]\n",
            " [3.         0.88235294 0.51724138 0.36585366 0.28301887 0.23076923]\n",
            " [3.         0.75       0.42857143 0.3        0.23076923 0.1875    ]] \n",
            "\n",
            "L@u - A\n",
            " [[ 0.  0.  0.  0.  0.  0.]\n",
            " [ 0.  0.  0.  0.  0.  0.]\n",
            " [ 0.  0.  0.  0.  0. -0.]\n",
            " [ 0.  0.  0. -0. -0. -0.]\n",
            " [ 0.  0.  0.  0.  0.  0.]\n",
            " [ 0.  0. -0. -0.  0.  0.]] \n",
            "\n"
          ]
        }
      ]
    },
    {
      "cell_type": "code",
      "source": [
        "from scipy import linalg\n",
        "\n",
        "P,L,U = linalg.lu(A)\n",
        "\n",
        "print(\"P\\n\",P, \"\\n\")\n",
        "print(\"L\\n\",L, \"\\n\")\n",
        "print(\"U\\n\",U, \"\\n\")\n",
        "print(\"A= P@L@U\\n\", P@L@U, \"\\n\")\n",
        "print(\"A\\n\",A, \"\\n\")\n",
        "\n",
        "# Quick sanity check: L times U must equal the original matrix, up to floating-point errors.\n",
        "print(\"L@u - A\\n\",np.round(P@L@U-A,3), \"\\n\")"
      ],
      "metadata": {
        "colab": {
          "base_uri": "https://localhost:8080/"
        },
        "id": "acLrGb5y4aZl",
        "outputId": "55363d1f-a904-4a46-c076-276319b338a6"
      },
      "execution_count": null,
      "outputs": [
        {
          "output_type": "stream",
          "name": "stdout",
          "text": [
            "P\n",
            " [[1. 0. 0. 0. 0. 0.]\n",
            " [0. 0. 1. 0. 0. 0.]\n",
            " [0. 0. 0. 1. 0. 0.]\n",
            " [0. 0. 0. 0. 1. 0.]\n",
            " [0. 0. 0. 0. 0. 1.]\n",
            " [0. 1. 0. 0. 0. 0.]] \n",
            "\n",
            "L\n",
            " [[1.         0.         0.         0.         0.         0.        ]\n",
            " [1.         1.         0.         0.         0.         0.        ]\n",
            " [1.         0.5        1.         0.         0.         0.        ]\n",
            " [1.         0.72727273 0.70588235 1.         0.         0.        ]\n",
            " [1.         0.85714286 0.40993789 0.83482143 1.         0.        ]\n",
            " [1.         0.94117647 0.17849899 0.4255677  0.78870221 1.        ]] \n",
            "\n",
            "U\n",
            " [[ 3.00000000e+00  3.00000000e+00  3.00000000e+00  3.00000000e+00\n",
            "   3.00000000e+00  3.00000000e+00]\n",
            " [ 0.00000000e+00 -2.25000000e+00 -2.57142857e+00 -2.70000000e+00\n",
            "  -2.76923077e+00 -2.81250000e+00]\n",
            " [ 0.00000000e+00  0.00000000e+00 -3.50649351e-01 -5.78571429e-01\n",
            "  -7.33031674e-01 -8.43750000e-01]\n",
            " [ 0.00000000e+00  0.00000000e+00  0.00000000e+00  2.42136380e-02\n",
            "   4.86615163e-02  6.96142093e-02]\n",
            " [ 0.00000000e+00  0.00000000e+00  0.00000000e+00  0.00000000e+00\n",
            "  -6.46187856e-04 -1.51605479e-03]\n",
            " [ 0.00000000e+00  0.00000000e+00  0.00000000e+00  0.00000000e+00\n",
            "   0.00000000e+00  6.73010748e-06]] \n",
            "\n",
            "A= P@L@U\n",
            " [[3.         3.         3.         3.         3.         3.        ]\n",
            " [3.         1.875      1.36363636 1.07142857 0.88235294 0.75      ]\n",
            " [3.         1.36363636 0.88235294 0.65217391 0.51724138 0.42857143]\n",
            " [3.         1.07142857 0.65217391 0.46875    0.36585366 0.3       ]\n",
            " [3.         0.88235294 0.51724138 0.36585366 0.28301887 0.23076923]\n",
            " [3.         0.75       0.42857143 0.3        0.23076923 0.1875    ]] \n",
            "\n",
            "A\n",
            " [[3.         3.         3.         3.         3.         3.        ]\n",
            " [3.         1.875      1.36363636 1.07142857 0.88235294 0.75      ]\n",
            " [3.         1.36363636 0.88235294 0.65217391 0.51724138 0.42857143]\n",
            " [3.         1.07142857 0.65217391 0.46875    0.36585366 0.3       ]\n",
            " [3.         0.88235294 0.51724138 0.36585366 0.28301887 0.23076923]\n",
            " [3.         0.75       0.42857143 0.3        0.23076923 0.1875    ]] \n",
            "\n",
            "L@u - A\n",
            " [[ 0.  0.  0.  0.  0.  0.]\n",
            " [ 0.  0.  0.  0.  0.  0.]\n",
            " [ 0.  0.  0.  0.  0. -0.]\n",
            " [ 0.  0.  0.  0.  0. -0.]\n",
            " [ 0.  0.  0.  0.  0. -0.]\n",
            " [ 0.  0. -0. -0.  0.  0.]] \n",
            "\n"
          ]
        }
      ]
    },
    {
      "cell_type": "code",
      "metadata": {
        "colab": {
          "base_uri": "https://localhost:8080/"
        },
        "id": "Ea5i2TSF1RPx",
        "outputId": "b99449a1-b4ba-4d60-f0d9-9baf7f6cfe62"
      },
      "source": [
        "A[1, 1] = 3\n",
        "\n",
        "P, L, U, = diy_lu_column_pivot_reconstruct(A1)\n",
        "\n",
        "print(\"P\\n\",P, \"\\n\")\n",
        "print(\"L\\n\",L, \"\\n\")\n",
        "print(\"U\\n\",U, \"\\n\")\n",
        "print(\"A= P@L@U\\n\", P@L@U, \"\\n\")\n",
        "print(\"A\\n\",A, \"\\n\")\n",
        "\n",
        "# Quick sanity check: L times U must equal the original matrix, up to floating-point errors.\n",
        "print(\"L@u - A\\n\",np.round(P@L@U-A,3), \"\\n\")"
      ],
      "execution_count": null,
      "outputs": [
        {
          "output_type": "stream",
          "name": "stdout",
          "text": [
            "P\n",
            " [[1. 0. 0. 0. 0. 0.]\n",
            " [0. 0. 1. 0. 0. 0.]\n",
            " [0. 0. 0. 1. 0. 0.]\n",
            " [0. 0. 0. 0. 1. 0.]\n",
            " [0. 0. 0. 0. 0. 1.]\n",
            " [0. 1. 0. 0. 0. 0.]] \n",
            "\n",
            "L\n",
            " [[ 1.          0.          0.          0.          0.          0.        ]\n",
            " [ 1.          1.          0.          0.          0.          0.        ]\n",
            " [ 1.         -0.          1.          0.          0.          0.        ]\n",
            " [ 1.          0.72727273  0.1512605   1.          0.          0.        ]\n",
            " [ 1.          0.85714286  0.08784383  0.51421669  1.          0.        ]\n",
            " [ 1.          0.94117647  0.03824978  0.2076544   0.64143198  1.        ]] \n",
            "\n",
            "U\n",
            " [[ 3.00000000e+00  3.00000000e+00  3.00000000e+00  3.00000000e+00\n",
            "   3.00000000e+00  3.00000000e+00]\n",
            " [ 0.00000000e+00 -2.25000000e+00 -2.57142857e+00 -2.70000000e+00\n",
            "  -2.76923077e+00 -2.81250000e+00]\n",
            " [ 0.00000000e+00  0.00000000e+00 -1.63636364e+00 -1.92857143e+00\n",
            "  -2.11764706e+00 -2.25000000e+00]\n",
            " [ 0.00000000e+00  0.00000000e+00  2.77555756e-17 -9.24730366e-02\n",
            "  -1.48456245e-01 -1.85637892e-01]\n",
            " [ 0.00000000e+00  2.22044605e-16  0.00000000e+00  0.00000000e+00\n",
            "   1.84094605e-03  3.82101258e-03]\n",
            " [ 0.00000000e+00  0.00000000e+00  0.00000000e+00  0.00000000e+00\n",
            "   0.00000000e+00 -1.23295047e-05]] \n",
            "\n",
            "A= P@L@U\n",
            " [[3.         3.         3.         3.         3.         3.        ]\n",
            " [3.         3.         1.36363636 1.07142857 0.88235294 0.75      ]\n",
            " [3.         1.36363636 0.88235294 0.65217391 0.51724138 0.42857143]\n",
            " [3.         1.07142857 0.65217391 0.46875    0.36585366 0.3       ]\n",
            " [3.         0.88235294 0.51724138 0.36585366 0.28301887 0.23076923]\n",
            " [3.         0.75       0.42857143 0.3        0.23076923 0.1875    ]] \n",
            "\n",
            "A\n",
            " [[3.         3.         3.         3.         3.         3.        ]\n",
            " [3.         3.         1.36363636 1.07142857 0.88235294 0.75      ]\n",
            " [3.         1.36363636 0.88235294 0.65217391 0.51724138 0.42857143]\n",
            " [3.         1.07142857 0.65217391 0.46875    0.36585366 0.3       ]\n",
            " [3.         0.88235294 0.51724138 0.36585366 0.28301887 0.23076923]\n",
            " [3.         0.75       0.42857143 0.3        0.23076923 0.1875    ]] \n",
            "\n",
            "L@u - A\n",
            " [[ 0.  0.  0.  0.  0.  0.]\n",
            " [ 0.  0.  0.  0.  0.  0.]\n",
            " [ 0.  0.  0.  0.  0. -0.]\n",
            " [ 0.  0.  0. -0. -0. -0.]\n",
            " [ 0.  0.  0.  0.  0. -0.]\n",
            " [ 0.  0. -0. -0.  0.  0.]] \n",
            "\n"
          ]
        }
      ]
    },
    {
      "cell_type": "code",
      "source": [
        "from scipy import linalg\n",
        "\n",
        "P,L,U = linalg.lu(A)\n",
        "\n",
        "print(\"P\\n\",P, \"\\n\")\n",
        "print(\"L\\n\",L, \"\\n\")\n",
        "print(\"U\\n\",U, \"\\n\")\n",
        "print(\"A= P@L@U\\n\", P@L@U, \"\\n\")\n",
        "print(\"A\\n\",A, \"\\n\")\n",
        "\n",
        "# Quick sanity check: L times U must equal the original matrix, up to floating-point errors.\n",
        "print(\"L@u - A\\n\",np.round(P@L@U-A,3), \"\\n\")"
      ],
      "metadata": {
        "colab": {
          "base_uri": "https://localhost:8080/"
        },
        "id": "6odsHUNwqGzD",
        "outputId": "f2e75c43-de19-430b-d228-0db3b60fe964"
      },
      "execution_count": null,
      "outputs": [
        {
          "output_type": "stream",
          "name": "stdout",
          "text": [
            "P\n",
            " [[1. 0. 0. 0. 0. 0.]\n",
            " [0. 0. 1. 0. 0. 0.]\n",
            " [0. 0. 0. 1. 0. 0.]\n",
            " [0. 0. 0. 0. 1. 0.]\n",
            " [0. 0. 0. 0. 0. 1.]\n",
            " [0. 1. 0. 0. 0. 0.]] \n",
            "\n",
            "L\n",
            " [[ 1.          0.          0.          0.          0.          0.        ]\n",
            " [ 1.          1.          0.          0.          0.          0.        ]\n",
            " [ 1.         -0.          1.          0.          0.          0.        ]\n",
            " [ 1.          0.72727273  0.1512605   1.          0.          0.        ]\n",
            " [ 1.          0.85714286  0.08784383  0.51421669  1.          0.        ]\n",
            " [ 1.          0.94117647  0.03824978  0.2076544   0.64143198  1.        ]] \n",
            "\n",
            "U\n",
            " [[ 3.00000000e+00  3.00000000e+00  3.00000000e+00  3.00000000e+00\n",
            "   3.00000000e+00  3.00000000e+00]\n",
            " [ 0.00000000e+00 -2.25000000e+00 -2.57142857e+00 -2.70000000e+00\n",
            "  -2.76923077e+00 -2.81250000e+00]\n",
            " [ 0.00000000e+00  0.00000000e+00 -1.63636364e+00 -1.92857143e+00\n",
            "  -2.11764706e+00 -2.25000000e+00]\n",
            " [ 0.00000000e+00  0.00000000e+00  0.00000000e+00 -9.24730366e-02\n",
            "  -1.48456245e-01 -1.85637892e-01]\n",
            " [ 0.00000000e+00  0.00000000e+00  0.00000000e+00  0.00000000e+00\n",
            "   1.84094605e-03  3.82101258e-03]\n",
            " [ 0.00000000e+00  0.00000000e+00  0.00000000e+00  0.00000000e+00\n",
            "   0.00000000e+00 -1.23295047e-05]] \n",
            "\n",
            "A= P@L@U\n",
            " [[3.         3.         3.         3.         3.         3.        ]\n",
            " [3.         3.         1.36363636 1.07142857 0.88235294 0.75      ]\n",
            " [3.         1.36363636 0.88235294 0.65217391 0.51724138 0.42857143]\n",
            " [3.         1.07142857 0.65217391 0.46875    0.36585366 0.3       ]\n",
            " [3.         0.88235294 0.51724138 0.36585366 0.28301887 0.23076923]\n",
            " [3.         0.75       0.42857143 0.3        0.23076923 0.1875    ]] \n",
            "\n",
            "A\n",
            " [[3.         3.         3.         3.         3.         3.        ]\n",
            " [3.         3.         1.36363636 1.07142857 0.88235294 0.75      ]\n",
            " [3.         1.36363636 0.88235294 0.65217391 0.51724138 0.42857143]\n",
            " [3.         1.07142857 0.65217391 0.46875    0.36585366 0.3       ]\n",
            " [3.         0.88235294 0.51724138 0.36585366 0.28301887 0.23076923]\n",
            " [3.         0.75       0.42857143 0.3        0.23076923 0.1875    ]] \n",
            "\n",
            "L@u - A\n",
            " [[ 0.  0.  0.  0.  0.  0.]\n",
            " [ 0.  0.  0.  0.  0.  0.]\n",
            " [ 0.  0.  0.  0.  0. -0.]\n",
            " [ 0.  0.  0.  0.  0.  0.]\n",
            " [ 0.  0.  0.  0.  0. -0.]\n",
            " [ 0.  0. -0. -0.  0.  0.]] \n",
            "\n"
          ]
        }
      ]
    }
  ]
}

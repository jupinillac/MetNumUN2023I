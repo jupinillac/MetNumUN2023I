{
  "nbformat": 4,
  "nbformat_minor": 0,
  "metadata": {
    "colab": {
      "provenance": [],
      "authorship_tag": "ABX9TyMKvurIAlHZ7Mbpbx+gyI4h"
    },
    "kernelspec": {
      "name": "python3",
      "display_name": "Python 3"
    },
    "language_info": {
      "name": "python"
    }
  },
  "cells": [
    {
      "cell_type": "code",
      "execution_count": 2,
      "metadata": {
        "id": "OY1vKN_zoekU"
      },
      "outputs": [],
      "source": [
        "def FizzBuzz(x):\n",
        "    if x%3==0 and x%5!=0:\n",
        "      return'Fizz!'\n",
        "    elif x%5==0 and x%3!=0:\n",
        "      return 'Buzz!'\n",
        "    elif x%5==0 and x%3==0:\n",
        "      return 'FizzBuzz!'\n",
        "    else:\n",
        "      return'...'"
      ]
    },
    {
      "cell_type": "code",
      "source": [
        "def FizzBuzzList(n):\n",
        "    ans = []\n",
        "    for i in range(n):\n",
        "      ans.append(FizzBuzz(i+1))\n",
        "    return ans\n"
      ],
      "metadata": {
        "id": "NYRR8gBi9LaT"
      },
      "execution_count": 3,
      "outputs": []
    },
    {
      "cell_type": "code",
      "source": [
        "import numpy as np\n",
        "\n",
        "def standarize(X):\n",
        "  X_standarized = (X-X.mean())/(X.std())\n",
        "  return X_standarized"
      ],
      "metadata": {
        "id": "Qo2hfQbG9T9n"
      },
      "execution_count": 4,
      "outputs": []
    },
    {
      "cell_type": "code",
      "source": [
        "import numpy as np\n",
        "\n",
        "def main_diagonal_matrix(A):\n",
        "  A=A.astype(float)\n",
        "  D = np.diag(np.diag(A))\n",
        "  return D"
      ],
      "metadata": {
        "id": "36t-pq2U9YJi"
      },
      "execution_count": 5,
      "outputs": []
    }
  ]
}